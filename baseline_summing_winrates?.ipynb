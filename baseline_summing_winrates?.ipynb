{
 "cells": [
  {
   "cell_type": "code",
   "execution_count": 2,
   "metadata": {},
   "outputs": [],
   "source": [
    "import pandas as pd\n",
    "import json\n",
    "from sklearn.preprocessing import MinMaxScaler"
   ]
  },
  {
   "cell_type": "code",
   "execution_count": 8,
   "metadata": {},
   "outputs": [
    {
     "name": "stdout",
     "output_type": "stream",
     "text": [
      "0.49365594570669813\n"
     ]
    }
   ],
   "source": [
    "df = pd.read_csv(\"combined_league_matches.csv\")\n",
    "\n",
    "with open(\"champion_max_winrates.json\", \"r\") as file:\n",
    "    win_rate_data = json.load(file)\n",
    "win_rates = {int(k): float(v) for k, v in win_rate_data.items()}\n",
    "\n",
    "blue_mastery_cols = [f'blue_mastery_{i}' for i in range(5)]\n",
    "red_mastery_cols = [f'red_mastery_{i}' for i in range(5)]\n",
    "blue_winrate_cols = [f'blue_champion_{i}' for i in range(5)]\n",
    "red_winrate_cols = [f'red_champion_{i}' for i in range(5)]\n",
    "\n",
    "scaler = MinMaxScaler(feature_range=(0.9, 1.1))\n",
    "\n",
    "df[blue_mastery_cols + red_mastery_cols] = scaler.fit_transform(df[blue_mastery_cols + red_mastery_cols])\n",
    "\n",
    "df['blue_score'] = sum(df[f'blue_champion_{i}'] * df[f'blue_mastery_{i}'] for i in range(5))\n",
    "df['red_score'] = sum(df[f'red_champion_{i}'] * df[f'red_mastery_{i}'] for i in range(5))\n",
    "\n",
    "df['predicted_winner'] = df.apply(lambda row: 'blue' if row['blue_score'] > row['red_score'] else 'red', axis=1)\n",
    "\n",
    "accuracy = (df['winner'] == df['predicted_winner']).mean()\n",
    "print(accuracy)"
   ]
  },
  {
   "cell_type": "code",
   "execution_count": 3,
   "metadata": {},
   "outputs": [
    {
     "name": "stdout",
     "output_type": "stream",
     "text": [
      "Accuracy: 49.34%\n"
     ]
    }
   ],
   "source": [
    "df = pd.read_csv(\"combined_league_matches.csv\")\n",
    "\n",
    "with open(\"champion_max_winrates.json\", \"r\") as file:\n",
    "    win_rate_data = json.load(file)\n",
    "win_rates = {int(k): float(v) for k, v in win_rate_data.items()}\n",
    "\n",
    "# Define the columns for winrate\n",
    "blue_winrate_cols = [f'blue_champion_{i}' for i in range(5)]\n",
    "red_winrate_cols = [f'red_champion_{i}' for i in range(5)]\n",
    "\n",
    "# Calculate total winrate for each team\n",
    "df['blue_total_winrate'] = df[blue_winrate_cols].sum(axis=1)\n",
    "df['red_total_winrate'] = df[red_winrate_cols].sum(axis=1)\n",
    "\n",
    "# Predict winner based on higher total winrate\n",
    "df['predicted_winner'] = df.apply(lambda row: 'blue' if row['blue_total_winrate'] > row['red_total_winrate'] else 'red', axis=1)\n",
    "\n",
    "# Evaluate performance\n",
    "accuracy = (df['winner'] == df['predicted_winner']).mean()\n",
    "print(f'Accuracy: {accuracy:.2%}')"
   ]
  }
 ],
 "metadata": {
  "kernelspec": {
   "display_name": "torch-gpu",
   "language": "python",
   "name": "python3"
  },
  "language_info": {
   "codemirror_mode": {
    "name": "ipython",
    "version": 3
   },
   "file_extension": ".py",
   "mimetype": "text/x-python",
   "name": "python",
   "nbconvert_exporter": "python",
   "pygments_lexer": "ipython3",
   "version": "3.8.16"
  },
  "orig_nbformat": 4
 },
 "nbformat": 4,
 "nbformat_minor": 2
}
