{
 "cells": [
  {
   "cell_type": "code",
   "execution_count": 24,
   "metadata": {},
   "outputs": [],
   "source": [
    "import pandas as pd\n",
    "import numpy as np  \n",
    "import torch \n",
    "from sklearn.model_selection import train_test_split\n",
    "from sklearn.ensemble import RandomForestClassifier\n",
    "from sklearn.preprocessing import LabelEncoder, StandardScaler\n",
    "from sklearn.metrics import accuracy_score, classification_report\n",
    "from xgboost import XGBClassifier"
   ]
  },
  {
   "cell_type": "code",
   "execution_count": null,
   "metadata": {},
   "outputs": [],
   "source": [
    "df = pd.read_csv(\"combined_league_matches.csv\")\n",
    "#Some useful stuff we might wanna use\n",
    "champion_ids = [col for col in df.columns if 'champion' in col]\n",
    "all_games = pd.concat([df[col] for col in champion_ids]) \n",
    "games_per_champ = all_games.value_counts() #maybe useful, find total number of games per champ id"
   ]
  },
  {
   "attachments": {},
   "cell_type": "markdown",
   "metadata": {},
   "source": [
    "Basic Random Forest"
   ]
  },
  {
   "cell_type": "code",
   "execution_count": 7,
   "metadata": {},
   "outputs": [],
   "source": [
    "df = pd.read_csv(\"combined_league_matches.csv\")\n",
    "\n",
    "encoder = LabelEncoder()\n",
    "\n",
    "for col in ['red_champion_0', 'red_champion_1', 'red_champion_2', 'red_champion_3', 'red_champion_4',\n",
    "            'blue_champion_0', 'blue_champion_1', 'blue_champion_2', 'blue_champion_3', 'blue_champion_4']:\n",
    "    df[col] = encoder.fit_transform(df[col])\n",
    "\n",
    "df['target'] = df['winner'].apply(lambda x: 1 if x == 'blue' else 0) #blueside win if 1\n",
    "df = df.drop(columns=['match_id', 'winner'])\n",
    "\n",
    "#if we want to test without mastery just uncomment below\n",
    "#df = df.drop(columns=['red_mastery_0', 'red_mastery_1', 'red_mastery_2', 'red_mastery_3', 'red_mastery_4',\n",
    "#            'blue_mastery_0', 'blue_mastery_1', 'blue_mastery_2', 'blue_mastery_3', 'blue_mastery_4'])\n"
   ]
  },
  {
   "cell_type": "code",
   "execution_count": 40,
   "metadata": {},
   "outputs": [],
   "source": [
    "X = df.drop(columns=['target'])  # Features (character data)\n",
    "y = df['target']  # win/loss from blue perspective"
   ]
  },
  {
   "cell_type": "code",
   "execution_count": 41,
   "metadata": {},
   "outputs": [],
   "source": [
    "#splitting data \n",
    "X_train, X_test, y_train, y_test = train_test_split(X, y, test_size=0.2) #can use random_state"
   ]
  },
  {
   "cell_type": "code",
   "execution_count": 42,
   "metadata": {},
   "outputs": [
    {
     "name": "stdout",
     "output_type": "stream",
     "text": [
      "Accuracy: 0.56\n",
      "              precision    recall  f1-score   support\n",
      "\n",
      "           0       0.54      0.46      0.50      2231\n",
      "           1       0.56      0.64      0.60      2428\n",
      "\n",
      "    accuracy                           0.56      4659\n",
      "   macro avg       0.55      0.55      0.55      4659\n",
      "weighted avg       0.55      0.56      0.55      4659\n",
      "\n"
     ]
    }
   ],
   "source": [
    "model = RandomForestClassifier()#can use random_state\n",
    "model.fit(X_train, y_train)\n",
    "\n",
    "#Predict\n",
    "y_pred = model.predict(X_test)\n",
    "\n",
    "#Eval\n",
    "accuracy = accuracy_score(y_test, y_pred)\n",
    "print(f\"Accuracy: {accuracy:.2f}\")\n",
    "print(classification_report(y_test, y_pred))"
   ]
  },
  {
   "attachments": {},
   "cell_type": "markdown",
   "metadata": {},
   "source": [
    "Trying to scale the mastery levels and using random forest"
   ]
  },
  {
   "cell_type": "code",
   "execution_count": 18,
   "metadata": {},
   "outputs": [],
   "source": [
    "df = pd.read_csv(\"combined_league_matches.csv\")\n",
    "champion_ids = [col for col in df.columns if 'champion' in col]\n",
    "all_games = pd.concat([df[col] for col in champion_ids]) \n",
    "games_per_champ = all_games.value_counts() #maybe useful, find total number of games per champ id\n",
    "\n",
    "\n",
    "encoder = LabelEncoder()\n",
    "\n",
    "for col in ['red_champion_0', 'red_champion_1', 'red_champion_2', 'red_champion_3', 'red_champion_4',\n",
    "            'blue_champion_0', 'blue_champion_1', 'blue_champion_2', 'blue_champion_3', 'blue_champion_4']:\n",
    "    df[col] = encoder.fit_transform(df[col])\n",
    "\n",
    "df['target'] = df['winner'].apply(lambda x: 1 if x == 'blue' else 0) #blueside win if 1\n",
    "df = df.drop(columns=['match_id', 'winner'])\n",
    "\n",
    "#if we want to test without mastery just uncomment below\n",
    "#df = df.drop(columns=['red_mastery_0', 'red_mastery_1', 'red_mastery_2', 'red_mastery_3', 'red_mastery_4',\n",
    "#            'blue_mastery_0', 'blue_mastery_1', 'blue_mastery_2', 'blue_mastery_3', 'blue_mastery_4'])\n",
    "\n",
    "#scale all mastery values\n",
    "mastery_columns = [\n",
    "    'red_mastery_0', 'red_mastery_1', 'red_mastery_2', 'red_mastery_3', 'red_mastery_4',\n",
    "    'blue_mastery_0', 'blue_mastery_1', 'blue_mastery_2', 'blue_mastery_3', 'blue_mastery_4'\n",
    "]\n",
    "\n",
    "scaler = StandardScaler() #can also try minmaxscaler and keep within certain range\n",
    "\n",
    "df[mastery_columns] = scaler.fit_transform(df[mastery_columns])"
   ]
  },
  {
   "cell_type": "code",
   "execution_count": 20,
   "metadata": {},
   "outputs": [
    {
     "name": "stdout",
     "output_type": "stream",
     "text": [
      "Accuracy: 0.55\n",
      "              precision    recall  f1-score   support\n",
      "\n",
      "           0       0.51      0.48      0.50      2158\n",
      "           1       0.58      0.61      0.59      2501\n",
      "\n",
      "    accuracy                           0.55      4659\n",
      "   macro avg       0.55      0.54      0.54      4659\n",
      "weighted avg       0.55      0.55      0.55      4659\n",
      "\n"
     ]
    }
   ],
   "source": [
    "X = df.drop(columns=['target'])\n",
    "y = df['target']\n",
    "\n",
    "# Split the data and proceed with model training\n",
    "X_train, X_test, y_train, y_test = train_test_split(X, y, test_size=0.2)\n",
    "\n",
    "model = RandomForestClassifier()#can use random_state\n",
    "model.fit(X_train, y_train)\n",
    "\n",
    "#Predict\n",
    "y_pred = model.predict(X_test)\n",
    "\n",
    "#Eval\n",
    "accuracy = accuracy_score(y_test, y_pred)\n",
    "print(f\"Accuracy: {accuracy:.2f}\")\n",
    "print(classification_report(y_test, y_pred))"
   ]
  }
 ],
 "metadata": {
  "kernelspec": {
   "display_name": "torch-gpu",
   "language": "python",
   "name": "python3"
  },
  "language_info": {
   "codemirror_mode": {
    "name": "ipython",
    "version": 3
   },
   "file_extension": ".py",
   "mimetype": "text/x-python",
   "name": "python",
   "nbconvert_exporter": "python",
   "pygments_lexer": "ipython3",
   "version": "3.8.16"
  },
  "orig_nbformat": 4
 },
 "nbformat": 4,
 "nbformat_minor": 2
}
