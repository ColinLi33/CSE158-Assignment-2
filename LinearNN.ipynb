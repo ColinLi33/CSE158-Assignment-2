{
 "cells": [
  {
   "cell_type": "code",
   "execution_count": 3,
   "metadata": {},
   "outputs": [],
   "source": [
    "import numpy as np\n",
    "import pandas as pd\n",
    "from sklearn.model_selection import train_test_split\n",
    "from sklearn.preprocessing import StandardScaler\n",
    "import torch\n",
    "from torch.utils.data import DataLoader, Dataset\n",
    "import torch.nn as nn\n",
    "import torch.nn.functional as F\n",
    "import matplotlib.pyplot as plt\n",
    "from sklearn.metrics import accuracy_score"
   ]
  },
  {
   "cell_type": "code",
   "execution_count": 4,
   "metadata": {},
   "outputs": [],
   "source": [
    "df = pd.read_csv(\"combined_league_matches.csv\")\n",
    "character_columns = [f'red_champion_{i}' for i in range(5)] + [f'blue_champion_{i}' for i in range(5)]\n",
    "df = pd.get_dummies(df, columns=character_columns)\n",
    "\n",
    "mastery_columns = [\n",
    "    'red_mastery_0', 'red_mastery_1', 'red_mastery_2', 'red_mastery_3', 'red_mastery_4',\n",
    "    'blue_mastery_0', 'blue_mastery_1', 'blue_mastery_2', 'blue_mastery_3', 'blue_mastery_4'\n",
    "]\n",
    "\n",
    "scaler = StandardScaler()\n",
    "df[mastery_columns] = scaler.fit_transform(df[mastery_columns])\n",
    "\n",
    "df['target'] = df['winner'].apply(lambda x: 1 if x == 'blue' else 0)\n",
    "\n",
    "X = df.drop(columns=['match_id', 'winner', 'target']).values\n",
    "y = df['target'].values\n",
    "\n",
    "X_train, X_test, y_train, y_test = train_test_split(X, y, test_size=0.2)\n",
    "\n",
    "X_train_tensor = torch.tensor(X_train, dtype=torch.float32)\n",
    "y_train_tensor = torch.tensor(y_train, dtype=torch.float32)\n",
    "\n",
    "X_test_tensor = torch.tensor(X_test, dtype=torch.float32)\n",
    "y_test_tensor = torch.tensor(y_test, dtype=torch.float32)"
   ]
  },
  {
   "cell_type": "code",
   "execution_count": 5,
   "metadata": {},
   "outputs": [],
   "source": [
    "class CustomDataset(Dataset):\n",
    "    def __init__(self, X, y):\n",
    "        self.X = X\n",
    "        self.y = y\n",
    "\n",
    "    def __len__(self):\n",
    "        return len(self.y)\n",
    "\n",
    "    def __getitem__(self, idx):\n",
    "        return self.X[idx], self.y[idx]\n",
    "\n",
    "# Create DataLoader\n",
    "batch_size = 32\n",
    "train_dataset = CustomDataset(X_train_tensor, y_train_tensor)\n",
    "test_dataset = CustomDataset(X_test_tensor, y_test_tensor)\n",
    "\n",
    "train_loader = DataLoader(train_dataset, batch_size=batch_size, shuffle=True)\n",
    "test_loader = DataLoader(test_dataset, batch_size=batch_size, shuffle=False)"
   ]
  },
  {
   "cell_type": "code",
   "execution_count": 6,
   "metadata": {},
   "outputs": [],
   "source": [
    "class NeuralNet(nn.Module):\n",
    "    def __init__(self, input_size):\n",
    "        super(NeuralNet, self).__init__()\n",
    "        self.fc1 = nn.Linear(input_size, 128) \n",
    "        self.fc2 = nn.Linear(128, 64)\n",
    "        self.fc3 = nn.Linear(64, 1)\n",
    "        self.dropout = nn.Dropout(0.1)        \n",
    "\n",
    "    def forward(self, x):\n",
    "        x = F.relu(self.fc1(x))\n",
    "        x = self.dropout(x)\n",
    "        x = F.relu(self.fc2(x))\n",
    "        x = self.dropout(x)\n",
    "        x = torch.sigmoid(self.fc3(x))\n",
    "        return x"
   ]
  },
  {
   "cell_type": "code",
   "execution_count": 7,
   "metadata": {},
   "outputs": [
    {
     "name": "stderr",
     "output_type": "stream",
     "text": [
      "/Users/alexq/anaconda3/envs/torch-gpu/lib/python3.8/site-packages/tqdm/auto.py:21: TqdmWarning: IProgress not found. Please update jupyter and ipywidgets. See https://ipywidgets.readthedocs.io/en/stable/user_install.html\n",
      "  from .autonotebook import tqdm as notebook_tqdm\n"
     ]
    },
    {
     "name": "stdout",
     "output_type": "stream",
     "text": [
      "Epoch 1/30, Loss: 57.5909\n",
      "Epoch 2/30, Loss: 57.4773\n",
      "Epoch 3/30, Loss: 57.2711\n",
      "Epoch 4/30, Loss: 56.8459\n",
      "Epoch 5/30, Loss: 55.9101\n",
      "Epoch 6/30, Loss: 55.2215\n",
      "Epoch 7/30, Loss: 54.8693\n",
      "Epoch 8/30, Loss: 54.5577\n",
      "Epoch 9/30, Loss: 54.3825\n",
      "Epoch 10/30, Loss: 54.2782\n",
      "Epoch 11/30, Loss: 54.2090\n",
      "Epoch 12/30, Loss: 54.1223\n",
      "Epoch 13/30, Loss: 54.1313\n",
      "Epoch 14/30, Loss: 54.0473\n",
      "Epoch 15/30, Loss: 53.9635\n",
      "Epoch 16/30, Loss: 53.9695\n",
      "Epoch 17/30, Loss: 53.9027\n",
      "Epoch 18/30, Loss: 53.9884\n",
      "Epoch 19/30, Loss: 53.9345\n",
      "Epoch 20/30, Loss: 53.8860\n",
      "Epoch 21/30, Loss: 53.9225\n",
      "Epoch 22/30, Loss: 53.9112\n",
      "Epoch 23/30, Loss: 53.8365\n",
      "Epoch 24/30, Loss: 53.9389\n",
      "Epoch 25/30, Loss: 53.8899\n",
      "Epoch 26/30, Loss: 53.8805\n",
      "Epoch 27/30, Loss: 53.9450\n",
      "Epoch 28/30, Loss: 53.9930\n",
      "Epoch 29/30, Loss: 53.9069\n",
      "Epoch 30/30, Loss: 54.0218\n",
      "Test Accuracy: 0.52\n"
     ]
    }
   ],
   "source": [
    "# Model, loss function, and optimizer\n",
    "\n",
    "input_size = X_train.shape[1]\n",
    "model = NeuralNet(input_size)\n",
    "criterion = nn.CrossEntropyLoss()\n",
    "optimizer = torch.optim.Adam(model.parameters(), lr=0.01)\n",
    "\n",
    "# Training\n",
    "num_epochs = 30\n",
    "\n",
    "for epoch in range(num_epochs):\n",
    "    model.train()\n",
    "    epoch_loss = 0\n",
    "\n",
    "    for X_batch, y_batch in train_loader:\n",
    "        optimizer.zero_grad()\n",
    "        y_pred = model(X_batch).squeeze()\n",
    "        loss = criterion(y_pred, y_batch)\n",
    "        loss.backward()\n",
    "        optimizer.step()\n",
    "        epoch_loss += loss.item()\n",
    "\n",
    "    print(f\"Epoch {epoch+1}/{num_epochs}, Loss: {epoch_loss/len(train_loader):.4f}\")\n",
    "\n",
    "#Evaluation\n",
    "model.eval()\n",
    "with torch.no_grad():\n",
    "    y_preds = []\n",
    "    y_true = []\n",
    "\n",
    "    for X_batch, y_batch in test_loader:\n",
    "        y_pred = model(X_batch).squeeze()\n",
    "        y_preds.extend(y_pred.round().numpy())\n",
    "        y_true.extend(y_batch.numpy())\n",
    "\n",
    "#accuracy\n",
    "accuracy = accuracy_score(y_true, y_preds)\n",
    "print(f\"Test Accuracy: {accuracy:.2f}\")"
   ]
  },
  {
   "cell_type": "code",
   "execution_count": 8,
   "metadata": {},
   "outputs": [
    {
     "data": {
      "image/png": "[encoded data removed]",
      "text/plain": [
       "<Figure size 640x480 with 1 Axes>"
      ]
     },
     "metadata": {},
     "output_type": "display_data"
    }
   ],
   "source": [
    "#should actually plot training loss and validation loss to overfit check\n",
    "loss_values = []\n",
    "for epoch in range(num_epochs):\n",
    "    model.train()\n",
    "    epoch_loss = 0\n",
    "\n",
    "    for X_batch, y_batch in train_loader:\n",
    "        optimizer.zero_grad()\n",
    "        y_pred = model(X_batch).squeeze()\n",
    "        loss = criterion(y_pred, y_batch)\n",
    "        loss.backward()\n",
    "        optimizer.step()\n",
    "        epoch_loss += loss.item()\n",
    "\n",
    "    loss_values.append(epoch_loss / len(train_loader))\n",
    "\n",
    "# Plot\n",
    "plt.plot(range(1, num_epochs+1), loss_values, label='Training Loss')\n",
    "plt.xlabel('Epochs')\n",
    "plt.ylabel('Loss')\n",
    "plt.title('Training Loss Over Epochs')\n",
    "plt.legend()\n",
    "plt.show()"
   ]
  }
 ],
 "metadata": {
  "kernelspec": {
   "display_name": "torch-gpu",
   "language": "python",
   "name": "python3"
  },
  "language_info": {
   "codemirror_mode": {
    "name": "ipython",
    "version": 3
   },
   "file_extension": ".py",
   "mimetype": "text/x-python",
   "name": "python",
   "nbconvert_exporter": "python",
   "pygments_lexer": "ipython3",
   "version": "3.8.16"
  },
  "orig_nbformat": 4
 },
 "nbformat": 4,
 "nbformat_minor": 2
}
