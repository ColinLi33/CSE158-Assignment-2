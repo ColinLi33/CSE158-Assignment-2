{
 "cells": [
  {
   "cell_type": "code",
   "execution_count": null,
   "metadata": {},
   "outputs": [],
   "source": [
    "import pandas as pd\n",
    "import numpy as np  "
   ]
  },
  {
   "cell_type": "code",
   "execution_count": null,
   "metadata": {},
   "outputs": [],
   "source": [
    "df = pd.read_csv(\"combined_league_matches.csv\")\n",
    "champion_ids = [col for col in df.columns if 'champion' in col]\n",
    "all_games = pd.concat([df[col] for col in champion_ids]) \n",
    "games_per_champ = all_games.value_counts() #maybe useful, find total number of games per champ id\n",
    "\n",
    "#find winrate\n",
    "#minmax Scale from 0.7->1 mastery\n",
    "#take team with greater sum as winner.\n",
    "#feature engineering step 1 for creating arbitrary priority values\n"
   ]
  }
 ],
 "metadata": {
  "language_info": {
   "name": "python"
  },
  "orig_nbformat": 4
 },
 "nbformat": 4,
 "nbformat_minor": 2
}
