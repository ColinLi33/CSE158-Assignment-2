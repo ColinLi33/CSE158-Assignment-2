{
 "cells": [
  {
   "cell_type": "code",
   "execution_count": null,
   "metadata": {},
   "outputs": [],
   "source": [
    "import pandas as pd\n",
    "import numpy as np  "
   ]
  },
  {
   "cell_type": "code",
   "execution_count": null,
   "metadata": {},
   "outputs": [],
   "source": [
    "df = pd.read_csv(\"combined_league_matches.csv\")\n",
    "champion_ids = [col for col in df.columns if 'champion' in col]\n",
    "all_games = pd.concat([df[col] for col in champion_ids]) \n",
    "games_per_champ = all_games.value_counts() #maybe useful, find total number of games per champ id\n",
    "\n",
    "#find winrate\n",
    "#minmax Scale from 0.7->1 mastery\n",
    "#take team with greater sum as winner.\n",
    "#feature engineering step 1 for creating arbitrary priority values\n"
   ]
  },
  {
   "cell_type": "code",
   "execution_count": null,
   "metadata": {},
   "outputs": [],
   "source": [
    "import requests\n",
    "from bs4 import BeautifulSoup\n",
    "\n",
    "# URL of the OP.GG champions page\n",
    "url = \"https://www.op.gg/champions\"\n",
    "\n",
    "# Fetch the page\n",
    "headers = {\"User-Agent\": \"Mozilla/5.0\"}\n",
    "response = requests.get(url, headers=headers)\n",
    "\n",
    "if response.status_code == 200:\n",
    "    soup = BeautifulSoup(response.content, \"html.parser\")\n",
    "    \n",
    "    # Select all rows in the table\n",
    "    table_rows = soup.select(\"table tbody tr\")\n",
    "    \n",
    "    champions = []\n",
    "    for row in table_rows:\n",
    "        # Extract champion name (update selector based on actual HTML structure)\n",
    "        img_tag = row.select_one(\"td a img\")\n",
    "        name = img_tag[\"alt\"].strip() if img_tag else \"Unknown\"\n",
    "        \n",
    "        # Extract win rate (use the class found in your screenshot)\n",
    "        win_rate = row.select(\"td\")[4].text\n",
    "        \n",
    "        champions.append({\"Champion\": name, \"Win Rate\": win_rate})\n",
    "    \n",
    "    # Output the results\n",
    "    for champion in champions:\n",
    "        print(f\"{champion['Champion']}: {champion['Win Rate']}\")\n",
    "else:\n",
    "    print(f\"Failed to fetch data. Status code: {response.status_code}\")"
   ]
  }
 ],
 "metadata": {
  "kernelspec": {
   "display_name": "torch-gpu",
   "language": "python",
   "name": "python3"
  },
  "language_info": {
   "codemirror_mode": {
    "name": "ipython",
    "version": 3
   },
   "file_extension": ".py",
   "mimetype": "text/x-python",
   "name": "python",
   "nbconvert_exporter": "python",
   "pygments_lexer": "ipython3",
   "version": "3.8.16"
  },
  "orig_nbformat": 4
 },
 "nbformat": 4,
 "nbformat_minor": 2
}
