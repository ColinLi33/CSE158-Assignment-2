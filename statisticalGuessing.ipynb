{
 "cells": [
  {
   "cell_type": "code",
   "execution_count": null,
   "metadata": {},
   "outputs": [],
   "source": [
    "import pandas as pd\n",
    "import numpy as np  "
   ]
  },
  {
   "cell_type": "code",
   "execution_count": null,
   "metadata": {},
   "outputs": [],
   "source": [
    "df = pd.read_csv(\"combined_league_matches.csv\")\n",
    "champion_ids = [col for col in df.columns if 'champion' in col]\n",
    "all_games = pd.concat([df[col] for col in champion_ids]) \n",
    "games_per_champ = all_games.value_counts() #maybe useful, find total number of games per champ id\n",
    "\n",
    "#find winrate\n",
    "#minmax Scale from 0.7->1 mastery\n",
    "#take team with greater sum as winner.\n",
    "#feature engineering step 1 for creating arbitrary priority values\n"
   ]
  },
  {
   "cell_type": "code",
   "execution_count": null,
   "metadata": {},
   "outputs": [],
   "source": [
    "import requests\n",
    "from bs4 import BeautifulSoup\n",
    "\n",
    "url = \"https://www.op.gg/champions\"\n",
    "\n",
    "response = requests.get(url)\n",
    "\n",
    "if response.status_code == 200:\n",
    "    soup = BeautifulSoup(response.content, \"html.parser\")\n",
    "    champions = []\n",
    "    for champ_card in soup.select(\".css-class-for-champ-card\"):\n",
    "        name = champ_card.select_one(\".champion-name-class\").text.strip()\n",
    "        win_rate = champ_card.select_one(\".win-rate-class\").text.strip()\n",
    "        champions.append({\"Champion\": name, \"Win Rate\": win_rate})\n",
    "        df = pd.DataFrame(champions)\n",
    "        print(df)\n",
    "        \n",
    "    champions_array = df.to_dict('records')\n",
    "    print(champions_array)\n",
    "else:\n",
    "    print(f\"Failed to fetch data, status code: {response.status_code}\")"
   ]
  },
  {
   "cell_type": "code",
   "execution_count": null,
   "metadata": {},
   "outputs": [],
   "source": []
  }
 ],
 "metadata": {
  "language_info": {
   "name": "python"
  },
  "orig_nbformat": 4
 },
 "nbformat": 4,
 "nbformat_minor": 2
}
