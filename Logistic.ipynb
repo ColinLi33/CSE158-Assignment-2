{
 "cells": [
  {
   "cell_type": "code",
   "execution_count": null,
   "metadata": {},
   "outputs": [
    {
     "name": "stdout",
     "output_type": "stream",
     "text": [
      "Accuracy: 0.52\n",
      "              precision    recall  f1-score   support\n",
      "\n",
      "           0       0.49      0.10      0.16      2369\n",
      "           1       0.53      0.91      0.67      2631\n",
      "\n",
      "    accuracy                           0.52      5000\n",
      "   macro avg       0.51      0.50      0.41      5000\n",
      "weighted avg       0.51      0.52      0.43      5000\n",
      "\n"
     ]
    }
   ],
   "source": [
    "import pandas as pd\n",
    "from sklearn.model_selection import train_test_split\n",
    "from sklearn.linear_model import LogisticRegression\n",
    "from sklearn.metrics import accuracy_score, classification_report\n",
    "\n",
    "data = pd.read_csv('league_matches_data_final_KR.csv')\n",
    "\n",
    "data['winner'] = data['winner'].map({'blue': 1, 'red': 0})\n",
    "\n",
    "feature_cols = [\n",
    "    'blue_champion_0', 'blue_mastery_0',\n",
    "    'blue_champion_1', 'blue_mastery_1',\n",
    "    'blue_champion_2', 'blue_mastery_2',\n",
    "    'blue_champion_3', 'blue_mastery_3',\n",
    "    'blue_champion_4', 'blue_mastery_4',\n",
    "    'red_champion_0', 'red_mastery_0',\n",
    "    'red_champion_1', 'red_mastery_1',\n",
    "    'red_champion_2', 'red_mastery_2',\n",
    "    'red_champion_3', 'red_mastery_3',\n",
    "    'red_champion_4', 'red_mastery_4'\n",
    "]\n",
    "\n",
    "X = data[feature_cols]\n",
    "y = data['winner']\n",
    "\n",
    "X_train, X_test, y_train, y_test = train_test_split(X, y, test_size=0.2, random_state=42)\n",
    "\n",
    "log_reg = LogisticRegression(max_iter=1000, random_state=42)\n",
    "log_reg.fit(X_train, y_train)\n",
    "\n",
    "y_pred = log_reg.predict(X_test)\n",
    "\n",
    "accuracy = accuracy_score(y_test, y_pred)\n",
    "print(f\"Accuracy: {accuracy:.2f}\")\n",
    "\n",
    "print(classification_report(y_test, y_pred))\n"
   ]
  },
  {
   "cell_type": "code",
   "execution_count": null,
   "metadata": {},
   "outputs": [
    {
     "name": "stdout",
     "output_type": "stream",
     "text": [
      "Accuracy: 0.52\n",
      "              precision    recall  f1-score   support\n",
      "\n",
      "           0       0.49      0.10      0.16      2369\n",
      "           1       0.53      0.91      0.67      2631\n",
      "\n",
      "    accuracy                           0.52      5000\n",
      "   macro avg       0.51      0.50      0.41      5000\n",
      "weighted avg       0.51      0.52      0.43      5000\n",
      "\n",
      "Balanced Accuracy: 0.50\n"
     ]
    }
   ],
   "source": [
    "log_reg = LogisticRegression(max_iter=1000, random_state=42, C=10)\n",
    "log_reg.fit(X_train, y_train)\n",
    "\n",
    "y_pred = log_reg.predict(X_test)\n",
    "accuracy = accuracy_score(y_test, y_pred)\n",
    "\n",
    "print(f\"Accuracy: {accuracy:.2f}\")\n",
    "print(classification_report(y_test, y_pred))\n",
    "\n",
    "# BER\n",
    "from sklearn.metrics import balanced_accuracy_score\n",
    "balanced_accuracy = balanced_accuracy_score(y_test, y_pred)\n",
    "print(f\"Balanced Accuracy: {balanced_accuracy:.2f}\")"
   ]
  },
  {
   "cell_type": "code",
   "execution_count": null,
   "metadata": {},
   "outputs": [
    {
     "name": "stdout",
     "output_type": "stream",
     "text": [
      "C=1e-05, Accuracy: 0.51\n",
      "C=1e-05, Balanced Accuracy: 0.50\n",
      "C=0.0001, Accuracy: 0.51\n",
      "C=0.0001, Balanced Accuracy: 0.50\n",
      "C=0.001, Accuracy: 0.51\n",
      "C=0.001, Balanced Accuracy: 0.50\n",
      "C=0.01, Accuracy: 0.51\n",
      "C=0.01, Balanced Accuracy: 0.50\n",
      "C=0.1, Accuracy: 0.51\n",
      "C=0.1, Balanced Accuracy: 0.50\n",
      "C=1, Accuracy: 0.51\n",
      "C=1, Balanced Accuracy: 0.50\n",
      "C=10, Accuracy: 0.51\n",
      "C=10, Balanced Accuracy: 0.50\n",
      "C=100, Accuracy: 0.51\n",
      "C=100, Balanced Accuracy: 0.50\n",
      "C=1000, Accuracy: 0.51\n",
      "C=1000, Balanced Accuracy: 0.50\n",
      "C=10000, Accuracy: 0.51\n",
      "C=10000, Balanced Accuracy: 0.50\n",
      "C=100000, Accuracy: 0.51\n",
      "C=100000, Balanced Accuracy: 0.50\n"
     ]
    }
   ],
   "source": [
    "# Hyperparameters\n",
    "for c in [0.00001, 0.0001, 0.001, 0.01, 0.1, 1, 10, 100, 1000, 10000, 100000]:\n",
    "    log_reg = LogisticRegression(max_iter=1000, random_state=42, C=c, class_weight='balanced')\n",
    "    log_reg.fit(X_train, y_train)\n",
    "\n",
    "    y_pred = log_reg.predict(X_test)\n",
    "    accuracy = accuracy_score(y_test, y_pred)\n",
    "\n",
    "    print(f\"C={c}, Accuracy: {accuracy:.2f}\")\n",
    "    # BER\n",
    "    balanced_accuracy = balanced_accuracy_score(y_test, y_pred)\n",
    "    print(f\"C={c}, Balanced Accuracy: {balanced_accuracy:.2f}\")"
   ]
  }
 ],
 "metadata": {
  "kernelspec": {
   "display_name": "Python 3",
   "language": "python",
   "name": "python3"
  },
  "language_info": {
   "codemirror_mode": {
    "name": "ipython",
    "version": 3
   },
   "file_extension": ".py",
   "mimetype": "text/x-python",
   "name": "python",
   "nbconvert_exporter": "python",
   "pygments_lexer": "ipython3",
   "version": "3.8.3"
  }
 },
 "nbformat": 4,
 "nbformat_minor": 2
}
